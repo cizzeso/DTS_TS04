{
  "nbformat": 4,
  "nbformat_minor": 0,
  "metadata": {
    "colab": {
      "name": "dataprocesing_TS04.ipynb",
      "provenance": [],
      "collapsed_sections": []
    },
    "kernelspec": {
      "name": "python3",
      "display_name": "Python 3"
    },
    "language_info": {
      "name": "python"
    }
  },
  "cells": [
    {
      "cell_type": "markdown",
      "metadata": {
        "id": "view-in-github"
      },
      "source": [
        "<a href=\"https://colab.research.google.com/github/cizzeso/DTS22_TS4/blob/kristanto-setyo-utomo/ts4_kris.ipynb\" target=\"_parent\"><img src=\"https://colab.research.google.com/assets/colab-badge.svg\" alt=\"Open In Colab\"/></a>"
      ]
    },
    {
      "cell_type": "markdown",
      "source": [
        "Import library yang diperlukan untuk mengolah data"
      ],
      "metadata": {
        "id": "cYXDm_NidY-s"
      }
    },
    {
      "cell_type": "code",
      "execution_count": null,
      "metadata": {
        "id": "THeIolDZYDjY"
      },
      "outputs": [],
      "source": [
        "import numpy as np # linear algebra\n",
        "import pandas as pd # data processing, CSV file I/O (e.g. pd.read_csv)\n",
        "import matplotlib.pyplot as plt\n",
        "import seaborn as sns\n",
        "import datetime"
      ]
    },
    {
      "cell_type": "markdown",
      "source": [
        "Menghubungkan dengan drive penyimpan data (google)"
      ],
      "metadata": {
        "id": "ac_9hNQidtt1"
      }
    },
    {
      "cell_type": "code",
      "source": [
        "from google.colab import drive\n",
        "drive.mount('/content/drive')"
      ],
      "metadata": {
        "colab": {
          "base_uri": "https://localhost:8080/"
        },
        "id": "-YMnFFVjc_i2",
        "outputId": "4108a528-53a5-4ef2-d210-58451c2a3ce6"
      },
      "execution_count": null,
      "outputs": [
        {
          "output_type": "stream",
          "name": "stdout",
          "text": [
            "Mounted at /content/drive\n"
          ]
        }
      ]
    },
    {
      "cell_type": "markdown",
      "source": [
        "Mengarahkan ke file sumber data yang akan diolah pada drive sebagai dataset dan menjadikan 'Date' sebagai kolom index"
      ],
      "metadata": {
        "id": "R3VGDVGzd0C1"
      }
    },
    {
      "cell_type": "code",
      "source": [
        "#ubah pathnya sesuai lokasi dataset \n",
        "df=pd.read_csv('/content/drive/MyDrive/dts_ts4/covid_impact_on_airport_traffic.csv',index_col=\"Date\",parse_dates=True)"
      ],
      "metadata": {
        "id": "sp1rNxWadJBO"
      },
      "execution_count": null,
      "outputs": []
    },
    {
      "cell_type": "code",
      "source": [
        "df.head()"
      ],
      "metadata": {
        "colab": {
          "base_uri": "https://localhost:8080/",
          "height": 455
        },
        "id": "bfN9LiIPdUw7",
        "outputId": "4489f80d-181b-471f-d6b6-9df0ad002a80"
      },
      "execution_count": null,
      "outputs": [
        {
          "output_type": "execute_result",
          "data": {
            "text/plain": [
              "           AggregationMethod  Version      AirportName  PercentOfBaseline  \\\n",
              "Date                                                                        \n",
              "2020-04-03             Daily      1.0  Kingsford Smith                 64   \n",
              "2020-04-13             Daily      1.0  Kingsford Smith                 29   \n",
              "2020-07-10             Daily      1.0  Kingsford Smith                 54   \n",
              "2020-09-02             Daily      1.0  Kingsford Smith                 18   \n",
              "2020-10-31             Daily      1.0  Kingsford Smith                 22   \n",
              "\n",
              "                                             Centroid    City  \\\n",
              "Date                                                            \n",
              "2020-04-03  POINT(151.180087713813 -33.9459774986125)  Sydney   \n",
              "2020-04-13  POINT(151.180087713813 -33.9459774986125)  Sydney   \n",
              "2020-07-10  POINT(151.180087713813 -33.9459774986125)  Sydney   \n",
              "2020-09-02  POINT(151.180087713813 -33.9459774986125)  Sydney   \n",
              "2020-10-31  POINT(151.180087713813 -33.9459774986125)  Sydney   \n",
              "\n",
              "                      State ISO_3166_2    Country  \\\n",
              "Date                                                \n",
              "2020-04-03  New South Wales         AU  Australia   \n",
              "2020-04-13  New South Wales         AU  Australia   \n",
              "2020-07-10  New South Wales         AU  Australia   \n",
              "2020-09-02  New South Wales         AU  Australia   \n",
              "2020-10-31  New South Wales         AU  Australia   \n",
              "\n",
              "                                                    Geography  \n",
              "Date                                                           \n",
              "2020-04-03  POLYGON((151.164354085922 -33.9301772341877, 1...  \n",
              "2020-04-13  POLYGON((151.164354085922 -33.9301772341877, 1...  \n",
              "2020-07-10  POLYGON((151.164354085922 -33.9301772341877, 1...  \n",
              "2020-09-02  POLYGON((151.164354085922 -33.9301772341877, 1...  \n",
              "2020-10-31  POLYGON((151.164354085922 -33.9301772341877, 1...  "
            ],
            "text/html": [
              "\n",
              "  <div id=\"df-c3dcf953-cf2d-4f37-a71c-4e0d68c99253\">\n",
              "    <div class=\"colab-df-container\">\n",
              "      <div>\n",
              "<style scoped>\n",
              "    .dataframe tbody tr th:only-of-type {\n",
              "        vertical-align: middle;\n",
              "    }\n",
              "\n",
              "    .dataframe tbody tr th {\n",
              "        vertical-align: top;\n",
              "    }\n",
              "\n",
              "    .dataframe thead th {\n",
              "        text-align: right;\n",
              "    }\n",
              "</style>\n",
              "<table border=\"1\" class=\"dataframe\">\n",
              "  <thead>\n",
              "    <tr style=\"text-align: right;\">\n",
              "      <th></th>\n",
              "      <th>AggregationMethod</th>\n",
              "      <th>Version</th>\n",
              "      <th>AirportName</th>\n",
              "      <th>PercentOfBaseline</th>\n",
              "      <th>Centroid</th>\n",
              "      <th>City</th>\n",
              "      <th>State</th>\n",
              "      <th>ISO_3166_2</th>\n",
              "      <th>Country</th>\n",
              "      <th>Geography</th>\n",
              "    </tr>\n",
              "    <tr>\n",
              "      <th>Date</th>\n",
              "      <th></th>\n",
              "      <th></th>\n",
              "      <th></th>\n",
              "      <th></th>\n",
              "      <th></th>\n",
              "      <th></th>\n",
              "      <th></th>\n",
              "      <th></th>\n",
              "      <th></th>\n",
              "      <th></th>\n",
              "    </tr>\n",
              "  </thead>\n",
              "  <tbody>\n",
              "    <tr>\n",
              "      <th>2020-04-03</th>\n",
              "      <td>Daily</td>\n",
              "      <td>1.0</td>\n",
              "      <td>Kingsford Smith</td>\n",
              "      <td>64</td>\n",
              "      <td>POINT(151.180087713813 -33.9459774986125)</td>\n",
              "      <td>Sydney</td>\n",
              "      <td>New South Wales</td>\n",
              "      <td>AU</td>\n",
              "      <td>Australia</td>\n",
              "      <td>POLYGON((151.164354085922 -33.9301772341877, 1...</td>\n",
              "    </tr>\n",
              "    <tr>\n",
              "      <th>2020-04-13</th>\n",
              "      <td>Daily</td>\n",
              "      <td>1.0</td>\n",
              "      <td>Kingsford Smith</td>\n",
              "      <td>29</td>\n",
              "      <td>POINT(151.180087713813 -33.9459774986125)</td>\n",
              "      <td>Sydney</td>\n",
              "      <td>New South Wales</td>\n",
              "      <td>AU</td>\n",
              "      <td>Australia</td>\n",
              "      <td>POLYGON((151.164354085922 -33.9301772341877, 1...</td>\n",
              "    </tr>\n",
              "    <tr>\n",
              "      <th>2020-07-10</th>\n",
              "      <td>Daily</td>\n",
              "      <td>1.0</td>\n",
              "      <td>Kingsford Smith</td>\n",
              "      <td>54</td>\n",
              "      <td>POINT(151.180087713813 -33.9459774986125)</td>\n",
              "      <td>Sydney</td>\n",
              "      <td>New South Wales</td>\n",
              "      <td>AU</td>\n",
              "      <td>Australia</td>\n",
              "      <td>POLYGON((151.164354085922 -33.9301772341877, 1...</td>\n",
              "    </tr>\n",
              "    <tr>\n",
              "      <th>2020-09-02</th>\n",
              "      <td>Daily</td>\n",
              "      <td>1.0</td>\n",
              "      <td>Kingsford Smith</td>\n",
              "      <td>18</td>\n",
              "      <td>POINT(151.180087713813 -33.9459774986125)</td>\n",
              "      <td>Sydney</td>\n",
              "      <td>New South Wales</td>\n",
              "      <td>AU</td>\n",
              "      <td>Australia</td>\n",
              "      <td>POLYGON((151.164354085922 -33.9301772341877, 1...</td>\n",
              "    </tr>\n",
              "    <tr>\n",
              "      <th>2020-10-31</th>\n",
              "      <td>Daily</td>\n",
              "      <td>1.0</td>\n",
              "      <td>Kingsford Smith</td>\n",
              "      <td>22</td>\n",
              "      <td>POINT(151.180087713813 -33.9459774986125)</td>\n",
              "      <td>Sydney</td>\n",
              "      <td>New South Wales</td>\n",
              "      <td>AU</td>\n",
              "      <td>Australia</td>\n",
              "      <td>POLYGON((151.164354085922 -33.9301772341877, 1...</td>\n",
              "    </tr>\n",
              "  </tbody>\n",
              "</table>\n",
              "</div>\n",
              "      <button class=\"colab-df-convert\" onclick=\"convertToInteractive('df-c3dcf953-cf2d-4f37-a71c-4e0d68c99253')\"\n",
              "              title=\"Convert this dataframe to an interactive table.\"\n",
              "              style=\"display:none;\">\n",
              "        \n",
              "  <svg xmlns=\"http://www.w3.org/2000/svg\" height=\"24px\"viewBox=\"0 0 24 24\"\n",
              "       width=\"24px\">\n",
              "    <path d=\"M0 0h24v24H0V0z\" fill=\"none\"/>\n",
              "    <path d=\"M18.56 5.44l.94 2.06.94-2.06 2.06-.94-2.06-.94-.94-2.06-.94 2.06-2.06.94zm-11 1L8.5 8.5l.94-2.06 2.06-.94-2.06-.94L8.5 2.5l-.94 2.06-2.06.94zm10 10l.94 2.06.94-2.06 2.06-.94-2.06-.94-.94-2.06-.94 2.06-2.06.94z\"/><path d=\"M17.41 7.96l-1.37-1.37c-.4-.4-.92-.59-1.43-.59-.52 0-1.04.2-1.43.59L10.3 9.45l-7.72 7.72c-.78.78-.78 2.05 0 2.83L4 21.41c.39.39.9.59 1.41.59.51 0 1.02-.2 1.41-.59l7.78-7.78 2.81-2.81c.8-.78.8-2.07 0-2.86zM5.41 20L4 18.59l7.72-7.72 1.47 1.35L5.41 20z\"/>\n",
              "  </svg>\n",
              "      </button>\n",
              "      \n",
              "  <style>\n",
              "    .colab-df-container {\n",
              "      display:flex;\n",
              "      flex-wrap:wrap;\n",
              "      gap: 12px;\n",
              "    }\n",
              "\n",
              "    .colab-df-convert {\n",
              "      background-color: #E8F0FE;\n",
              "      border: none;\n",
              "      border-radius: 50%;\n",
              "      cursor: pointer;\n",
              "      display: none;\n",
              "      fill: #1967D2;\n",
              "      height: 32px;\n",
              "      padding: 0 0 0 0;\n",
              "      width: 32px;\n",
              "    }\n",
              "\n",
              "    .colab-df-convert:hover {\n",
              "      background-color: #E2EBFA;\n",
              "      box-shadow: 0px 1px 2px rgba(60, 64, 67, 0.3), 0px 1px 3px 1px rgba(60, 64, 67, 0.15);\n",
              "      fill: #174EA6;\n",
              "    }\n",
              "\n",
              "    [theme=dark] .colab-df-convert {\n",
              "      background-color: #3B4455;\n",
              "      fill: #D2E3FC;\n",
              "    }\n",
              "\n",
              "    [theme=dark] .colab-df-convert:hover {\n",
              "      background-color: #434B5C;\n",
              "      box-shadow: 0px 1px 3px 1px rgba(0, 0, 0, 0.15);\n",
              "      filter: drop-shadow(0px 1px 2px rgba(0, 0, 0, 0.3));\n",
              "      fill: #FFFFFF;\n",
              "    }\n",
              "  </style>\n",
              "\n",
              "      <script>\n",
              "        const buttonEl =\n",
              "          document.querySelector('#df-c3dcf953-cf2d-4f37-a71c-4e0d68c99253 button.colab-df-convert');\n",
              "        buttonEl.style.display =\n",
              "          google.colab.kernel.accessAllowed ? 'block' : 'none';\n",
              "\n",
              "        async function convertToInteractive(key) {\n",
              "          const element = document.querySelector('#df-c3dcf953-cf2d-4f37-a71c-4e0d68c99253');\n",
              "          const dataTable =\n",
              "            await google.colab.kernel.invokeFunction('convertToInteractive',\n",
              "                                                     [key], {});\n",
              "          if (!dataTable) return;\n",
              "\n",
              "          const docLinkHtml = 'Like what you see? Visit the ' +\n",
              "            '<a target=\"_blank\" href=https://colab.research.google.com/notebooks/data_table.ipynb>data table notebook</a>'\n",
              "            + ' to learn more about interactive tables.';\n",
              "          element.innerHTML = '';\n",
              "          dataTable['output_type'] = 'display_data';\n",
              "          await google.colab.output.renderOutput(dataTable, element);\n",
              "          const docLink = document.createElement('div');\n",
              "          docLink.innerHTML = docLinkHtml;\n",
              "          element.appendChild(docLink);\n",
              "        }\n",
              "      </script>\n",
              "    </div>\n",
              "  </div>\n",
              "  "
            ]
          },
          "metadata": {},
          "execution_count": 4
        }
      ]
    },
    {
      "cell_type": "code",
      "source": [
        "df.tail()"
      ],
      "metadata": {
        "colab": {
          "base_uri": "https://localhost:8080/",
          "height": 542
        },
        "id": "rS3Dla3Fjaz5",
        "outputId": "50eaabe2-fb18-47fb-de00-30008d72e527"
      },
      "execution_count": null,
      "outputs": [
        {
          "output_type": "execute_result",
          "data": {
            "text/plain": [
              "           AggregationMethod  Version                    AirportName  \\\n",
              "Date                                                                   \n",
              "2020-06-05             Daily      1.0  Seattle-Tacoma International    \n",
              "2020-10-03             Daily      1.0  Seattle-Tacoma International    \n",
              "2020-07-16             Daily      1.0  Seattle-Tacoma International    \n",
              "2020-07-31             Daily      1.0  Seattle-Tacoma International    \n",
              "2020-08-30             Daily      1.0  Seattle-Tacoma International    \n",
              "\n",
              "            PercentOfBaseline                                   Centroid  \\\n",
              "Date                                                                       \n",
              "2020-06-05                 80  POINT(-122.308661576118 47.4505828917119)   \n",
              "2020-10-03                 55  POINT(-122.308661576118 47.4505828917119)   \n",
              "2020-07-16                 76  POINT(-122.308661576118 47.4505828917119)   \n",
              "2020-07-31                 69  POINT(-122.308661576118 47.4505828917119)   \n",
              "2020-08-30                 68  POINT(-122.308661576118 47.4505828917119)   \n",
              "\n",
              "              City       State ISO_3166_2                         Country  \\\n",
              "Date                                                                        \n",
              "2020-06-05  SeaTac  Washington      US-WA  United States of America (the)   \n",
              "2020-10-03  SeaTac  Washington      US-WA  United States of America (the)   \n",
              "2020-07-16  SeaTac  Washington      US-WA  United States of America (the)   \n",
              "2020-07-31  SeaTac  Washington      US-WA  United States of America (the)   \n",
              "2020-08-30  SeaTac  Washington      US-WA  United States of America (the)   \n",
              "\n",
              "                                                    Geography  \n",
              "Date                                                           \n",
              "2020-06-05  POLYGON((-122.297594547272 47.434474106872, -1...  \n",
              "2020-10-03  POLYGON((-122.297594547272 47.434474106872, -1...  \n",
              "2020-07-16  POLYGON((-122.297594547272 47.434474106872, -1...  \n",
              "2020-07-31  POLYGON((-122.297594547272 47.434474106872, -1...  \n",
              "2020-08-30  POLYGON((-122.297594547272 47.434474106872, -1...  "
            ],
            "text/html": [
              "\n",
              "  <div id=\"df-0d6e24d5-fa9f-48fe-97fc-b59f294c5249\">\n",
              "    <div class=\"colab-df-container\">\n",
              "      <div>\n",
              "<style scoped>\n",
              "    .dataframe tbody tr th:only-of-type {\n",
              "        vertical-align: middle;\n",
              "    }\n",
              "\n",
              "    .dataframe tbody tr th {\n",
              "        vertical-align: top;\n",
              "    }\n",
              "\n",
              "    .dataframe thead th {\n",
              "        text-align: right;\n",
              "    }\n",
              "</style>\n",
              "<table border=\"1\" class=\"dataframe\">\n",
              "  <thead>\n",
              "    <tr style=\"text-align: right;\">\n",
              "      <th></th>\n",
              "      <th>AggregationMethod</th>\n",
              "      <th>Version</th>\n",
              "      <th>AirportName</th>\n",
              "      <th>PercentOfBaseline</th>\n",
              "      <th>Centroid</th>\n",
              "      <th>City</th>\n",
              "      <th>State</th>\n",
              "      <th>ISO_3166_2</th>\n",
              "      <th>Country</th>\n",
              "      <th>Geography</th>\n",
              "    </tr>\n",
              "    <tr>\n",
              "      <th>Date</th>\n",
              "      <th></th>\n",
              "      <th></th>\n",
              "      <th></th>\n",
              "      <th></th>\n",
              "      <th></th>\n",
              "      <th></th>\n",
              "      <th></th>\n",
              "      <th></th>\n",
              "      <th></th>\n",
              "      <th></th>\n",
              "    </tr>\n",
              "  </thead>\n",
              "  <tbody>\n",
              "    <tr>\n",
              "      <th>2020-06-05</th>\n",
              "      <td>Daily</td>\n",
              "      <td>1.0</td>\n",
              "      <td>Seattle-Tacoma International</td>\n",
              "      <td>80</td>\n",
              "      <td>POINT(-122.308661576118 47.4505828917119)</td>\n",
              "      <td>SeaTac</td>\n",
              "      <td>Washington</td>\n",
              "      <td>US-WA</td>\n",
              "      <td>United States of America (the)</td>\n",
              "      <td>POLYGON((-122.297594547272 47.434474106872, -1...</td>\n",
              "    </tr>\n",
              "    <tr>\n",
              "      <th>2020-10-03</th>\n",
              "      <td>Daily</td>\n",
              "      <td>1.0</td>\n",
              "      <td>Seattle-Tacoma International</td>\n",
              "      <td>55</td>\n",
              "      <td>POINT(-122.308661576118 47.4505828917119)</td>\n",
              "      <td>SeaTac</td>\n",
              "      <td>Washington</td>\n",
              "      <td>US-WA</td>\n",
              "      <td>United States of America (the)</td>\n",
              "      <td>POLYGON((-122.297594547272 47.434474106872, -1...</td>\n",
              "    </tr>\n",
              "    <tr>\n",
              "      <th>2020-07-16</th>\n",
              "      <td>Daily</td>\n",
              "      <td>1.0</td>\n",
              "      <td>Seattle-Tacoma International</td>\n",
              "      <td>76</td>\n",
              "      <td>POINT(-122.308661576118 47.4505828917119)</td>\n",
              "      <td>SeaTac</td>\n",
              "      <td>Washington</td>\n",
              "      <td>US-WA</td>\n",
              "      <td>United States of America (the)</td>\n",
              "      <td>POLYGON((-122.297594547272 47.434474106872, -1...</td>\n",
              "    </tr>\n",
              "    <tr>\n",
              "      <th>2020-07-31</th>\n",
              "      <td>Daily</td>\n",
              "      <td>1.0</td>\n",
              "      <td>Seattle-Tacoma International</td>\n",
              "      <td>69</td>\n",
              "      <td>POINT(-122.308661576118 47.4505828917119)</td>\n",
              "      <td>SeaTac</td>\n",
              "      <td>Washington</td>\n",
              "      <td>US-WA</td>\n",
              "      <td>United States of America (the)</td>\n",
              "      <td>POLYGON((-122.297594547272 47.434474106872, -1...</td>\n",
              "    </tr>\n",
              "    <tr>\n",
              "      <th>2020-08-30</th>\n",
              "      <td>Daily</td>\n",
              "      <td>1.0</td>\n",
              "      <td>Seattle-Tacoma International</td>\n",
              "      <td>68</td>\n",
              "      <td>POINT(-122.308661576118 47.4505828917119)</td>\n",
              "      <td>SeaTac</td>\n",
              "      <td>Washington</td>\n",
              "      <td>US-WA</td>\n",
              "      <td>United States of America (the)</td>\n",
              "      <td>POLYGON((-122.297594547272 47.434474106872, -1...</td>\n",
              "    </tr>\n",
              "  </tbody>\n",
              "</table>\n",
              "</div>\n",
              "      <button class=\"colab-df-convert\" onclick=\"convertToInteractive('df-0d6e24d5-fa9f-48fe-97fc-b59f294c5249')\"\n",
              "              title=\"Convert this dataframe to an interactive table.\"\n",
              "              style=\"display:none;\">\n",
              "        \n",
              "  <svg xmlns=\"http://www.w3.org/2000/svg\" height=\"24px\"viewBox=\"0 0 24 24\"\n",
              "       width=\"24px\">\n",
              "    <path d=\"M0 0h24v24H0V0z\" fill=\"none\"/>\n",
              "    <path d=\"M18.56 5.44l.94 2.06.94-2.06 2.06-.94-2.06-.94-.94-2.06-.94 2.06-2.06.94zm-11 1L8.5 8.5l.94-2.06 2.06-.94-2.06-.94L8.5 2.5l-.94 2.06-2.06.94zm10 10l.94 2.06.94-2.06 2.06-.94-2.06-.94-.94-2.06-.94 2.06-2.06.94z\"/><path d=\"M17.41 7.96l-1.37-1.37c-.4-.4-.92-.59-1.43-.59-.52 0-1.04.2-1.43.59L10.3 9.45l-7.72 7.72c-.78.78-.78 2.05 0 2.83L4 21.41c.39.39.9.59 1.41.59.51 0 1.02-.2 1.41-.59l7.78-7.78 2.81-2.81c.8-.78.8-2.07 0-2.86zM5.41 20L4 18.59l7.72-7.72 1.47 1.35L5.41 20z\"/>\n",
              "  </svg>\n",
              "      </button>\n",
              "      \n",
              "  <style>\n",
              "    .colab-df-container {\n",
              "      display:flex;\n",
              "      flex-wrap:wrap;\n",
              "      gap: 12px;\n",
              "    }\n",
              "\n",
              "    .colab-df-convert {\n",
              "      background-color: #E8F0FE;\n",
              "      border: none;\n",
              "      border-radius: 50%;\n",
              "      cursor: pointer;\n",
              "      display: none;\n",
              "      fill: #1967D2;\n",
              "      height: 32px;\n",
              "      padding: 0 0 0 0;\n",
              "      width: 32px;\n",
              "    }\n",
              "\n",
              "    .colab-df-convert:hover {\n",
              "      background-color: #E2EBFA;\n",
              "      box-shadow: 0px 1px 2px rgba(60, 64, 67, 0.3), 0px 1px 3px 1px rgba(60, 64, 67, 0.15);\n",
              "      fill: #174EA6;\n",
              "    }\n",
              "\n",
              "    [theme=dark] .colab-df-convert {\n",
              "      background-color: #3B4455;\n",
              "      fill: #D2E3FC;\n",
              "    }\n",
              "\n",
              "    [theme=dark] .colab-df-convert:hover {\n",
              "      background-color: #434B5C;\n",
              "      box-shadow: 0px 1px 3px 1px rgba(0, 0, 0, 0.15);\n",
              "      filter: drop-shadow(0px 1px 2px rgba(0, 0, 0, 0.3));\n",
              "      fill: #FFFFFF;\n",
              "    }\n",
              "  </style>\n",
              "\n",
              "      <script>\n",
              "        const buttonEl =\n",
              "          document.querySelector('#df-0d6e24d5-fa9f-48fe-97fc-b59f294c5249 button.colab-df-convert');\n",
              "        buttonEl.style.display =\n",
              "          google.colab.kernel.accessAllowed ? 'block' : 'none';\n",
              "\n",
              "        async function convertToInteractive(key) {\n",
              "          const element = document.querySelector('#df-0d6e24d5-fa9f-48fe-97fc-b59f294c5249');\n",
              "          const dataTable =\n",
              "            await google.colab.kernel.invokeFunction('convertToInteractive',\n",
              "                                                     [key], {});\n",
              "          if (!dataTable) return;\n",
              "\n",
              "          const docLinkHtml = 'Like what you see? Visit the ' +\n",
              "            '<a target=\"_blank\" href=https://colab.research.google.com/notebooks/data_table.ipynb>data table notebook</a>'\n",
              "            + ' to learn more about interactive tables.';\n",
              "          element.innerHTML = '';\n",
              "          dataTable['output_type'] = 'display_data';\n",
              "          await google.colab.output.renderOutput(dataTable, element);\n",
              "          const docLink = document.createElement('div');\n",
              "          docLink.innerHTML = docLinkHtml;\n",
              "          element.appendChild(docLink);\n",
              "        }\n",
              "      </script>\n",
              "    </div>\n",
              "  </div>\n",
              "  "
            ]
          },
          "metadata": {},
          "execution_count": 5
        }
      ]
    },
    {
      "cell_type": "code",
      "source": [
        "# cek masing-masing kolom \n",
        "\n",
        "df.info()"
      ],
      "metadata": {
        "colab": {
          "base_uri": "https://localhost:8080/"
        },
        "id": "YosIIeSvhbss",
        "outputId": "3a0f4ab9-cd6d-4dc8-eac5-06f4892cc362"
      },
      "execution_count": null,
      "outputs": [
        {
          "output_type": "stream",
          "name": "stdout",
          "text": [
            "<class 'pandas.core.frame.DataFrame'>\n",
            "DatetimeIndex: 7247 entries, 2020-04-03 to 2020-08-30\n",
            "Data columns (total 10 columns):\n",
            " #   Column             Non-Null Count  Dtype  \n",
            "---  ------             --------------  -----  \n",
            " 0   AggregationMethod  7247 non-null   object \n",
            " 1   Version            7247 non-null   float64\n",
            " 2   AirportName        7247 non-null   object \n",
            " 3   PercentOfBaseline  7247 non-null   int64  \n",
            " 4   Centroid           7247 non-null   object \n",
            " 5   City               7247 non-null   object \n",
            " 6   State              7247 non-null   object \n",
            " 7   ISO_3166_2         7247 non-null   object \n",
            " 8   Country            7247 non-null   object \n",
            " 9   Geography          7247 non-null   object \n",
            "dtypes: float64(1), int64(1), object(8)\n",
            "memory usage: 622.8+ KB\n"
          ]
        }
      ]
    },
    {
      "cell_type": "markdown",
      "source": [
        "Mengecek type dari masing-masing data"
      ],
      "metadata": {
        "id": "NVjFbGRBeIXd"
      }
    },
    {
      "cell_type": "code",
      "source": [
        "# kolom 'Date' masih memiliki object type. maka harus diubah ke type datetime\n",
        "\n",
        "df.dtypes"
      ],
      "metadata": {
        "colab": {
          "base_uri": "https://localhost:8080/"
        },
        "id": "3_9Tmohqf_Hq",
        "outputId": "eaf07d3f-92e2-467c-c808-f76f575ff3ae"
      },
      "execution_count": null,
      "outputs": [
        {
          "output_type": "execute_result",
          "data": {
            "text/plain": [
              "AggregationMethod     object\n",
              "Version              float64\n",
              "AirportName           object\n",
              "PercentOfBaseline      int64\n",
              "Centroid              object\n",
              "City                  object\n",
              "State                 object\n",
              "ISO_3166_2            object\n",
              "Country               object\n",
              "Geography             object\n",
              "dtype: object"
            ]
          },
          "metadata": {},
          "execution_count": 7
        }
      ]
    },
    {
      "cell_type": "code",
      "source": [
        "# Check the null values\n",
        "df.isnull().sum()"
      ],
      "metadata": {
        "colab": {
          "base_uri": "https://localhost:8080/"
        },
        "id": "EujsLATPiKGA",
        "outputId": "2c5d1572-3766-4b3a-9ccf-1f2a63468180"
      },
      "execution_count": null,
      "outputs": [
        {
          "output_type": "execute_result",
          "data": {
            "text/plain": [
              "AggregationMethod    0\n",
              "Version              0\n",
              "AirportName          0\n",
              "PercentOfBaseline    0\n",
              "Centroid             0\n",
              "City                 0\n",
              "State                0\n",
              "ISO_3166_2           0\n",
              "Country              0\n",
              "Geography            0\n",
              "dtype: int64"
            ]
          },
          "metadata": {},
          "execution_count": 8
        }
      ]
    },
    {
      "cell_type": "code",
      "source": [
        "# Check the values\n",
        "df.isna().sum()"
      ],
      "metadata": {
        "colab": {
          "base_uri": "https://localhost:8080/"
        },
        "id": "dnXcthnviMUG",
        "outputId": "ef11eeb8-c2d2-4cfa-bcc0-29f10e20a02f"
      },
      "execution_count": null,
      "outputs": [
        {
          "output_type": "execute_result",
          "data": {
            "text/plain": [
              "AggregationMethod    0\n",
              "Version              0\n",
              "AirportName          0\n",
              "PercentOfBaseline    0\n",
              "Centroid             0\n",
              "City                 0\n",
              "State                0\n",
              "ISO_3166_2           0\n",
              "Country              0\n",
              "Geography            0\n",
              "dtype: int64"
            ]
          },
          "metadata": {},
          "execution_count": 9
        }
      ]
    },
    {
      "cell_type": "code",
      "source": [
        "df.describe(include='all')"
      ],
      "metadata": {
        "colab": {
          "base_uri": "https://localhost:8080/",
          "height": 490
        },
        "id": "oChHBAF5EtTZ",
        "outputId": "e52e95c7-b78a-443b-8103-8717a3962ec6"
      },
      "execution_count": null,
      "outputs": [
        {
          "output_type": "execute_result",
          "data": {
            "text/plain": [
              "       AggregationMethod  Version                                AirportName  \\\n",
              "count               7247   7247.0                                       7247   \n",
              "unique                 1      NaN                                         28   \n",
              "top                Daily      NaN  Hartsfield-Jackson Atlanta International    \n",
              "freq                7247      NaN                                        262   \n",
              "mean                 NaN      1.0                                        NaN   \n",
              "std                  NaN      0.0                                        NaN   \n",
              "min                  NaN      1.0                                        NaN   \n",
              "25%                  NaN      1.0                                        NaN   \n",
              "50%                  NaN      1.0                                        NaN   \n",
              "75%                  NaN      1.0                                        NaN   \n",
              "max                  NaN      1.0                                        NaN   \n",
              "\n",
              "        PercentOfBaseline                                   Centroid  \\\n",
              "count         7247.000000                                       7247   \n",
              "unique                NaN                                         28   \n",
              "top                   NaN  POINT(-84.4279188822754 33.6410758198944)   \n",
              "freq                  NaN                                        262   \n",
              "mean            66.651442                                        NaN   \n",
              "std             22.134433                                        NaN   \n",
              "min              0.000000                                        NaN   \n",
              "25%             53.000000                                        NaN   \n",
              "50%             67.000000                                        NaN   \n",
              "75%             84.000000                                        NaN   \n",
              "max            100.000000                                        NaN   \n",
              "\n",
              "            City     State ISO_3166_2                         Country  \\\n",
              "count       7247      7247       7247                            7247   \n",
              "unique        27        23         23                               4   \n",
              "top     New York  New York      US-NY  United States of America (the)   \n",
              "freq         523       523        523                            4441   \n",
              "mean         NaN       NaN        NaN                             NaN   \n",
              "std          NaN       NaN        NaN                             NaN   \n",
              "min          NaN       NaN        NaN                             NaN   \n",
              "25%          NaN       NaN        NaN                             NaN   \n",
              "50%          NaN       NaN        NaN                             NaN   \n",
              "75%          NaN       NaN        NaN                             NaN   \n",
              "max          NaN       NaN        NaN                             NaN   \n",
              "\n",
              "                                                Geography  \n",
              "count                                                7247  \n",
              "unique                                                 28  \n",
              "top     POLYGON((-84.4299745559692 33.657852680999, -8...  \n",
              "freq                                                  262  \n",
              "mean                                                  NaN  \n",
              "std                                                   NaN  \n",
              "min                                                   NaN  \n",
              "25%                                                   NaN  \n",
              "50%                                                   NaN  \n",
              "75%                                                   NaN  \n",
              "max                                                   NaN  "
            ],
            "text/html": [
              "\n",
              "  <div id=\"df-af768f30-1120-4d0f-a295-041021841683\">\n",
              "    <div class=\"colab-df-container\">\n",
              "      <div>\n",
              "<style scoped>\n",
              "    .dataframe tbody tr th:only-of-type {\n",
              "        vertical-align: middle;\n",
              "    }\n",
              "\n",
              "    .dataframe tbody tr th {\n",
              "        vertical-align: top;\n",
              "    }\n",
              "\n",
              "    .dataframe thead th {\n",
              "        text-align: right;\n",
              "    }\n",
              "</style>\n",
              "<table border=\"1\" class=\"dataframe\">\n",
              "  <thead>\n",
              "    <tr style=\"text-align: right;\">\n",
              "      <th></th>\n",
              "      <th>AggregationMethod</th>\n",
              "      <th>Version</th>\n",
              "      <th>AirportName</th>\n",
              "      <th>PercentOfBaseline</th>\n",
              "      <th>Centroid</th>\n",
              "      <th>City</th>\n",
              "      <th>State</th>\n",
              "      <th>ISO_3166_2</th>\n",
              "      <th>Country</th>\n",
              "      <th>Geography</th>\n",
              "    </tr>\n",
              "  </thead>\n",
              "  <tbody>\n",
              "    <tr>\n",
              "      <th>count</th>\n",
              "      <td>7247</td>\n",
              "      <td>7247.0</td>\n",
              "      <td>7247</td>\n",
              "      <td>7247.000000</td>\n",
              "      <td>7247</td>\n",
              "      <td>7247</td>\n",
              "      <td>7247</td>\n",
              "      <td>7247</td>\n",
              "      <td>7247</td>\n",
              "      <td>7247</td>\n",
              "    </tr>\n",
              "    <tr>\n",
              "      <th>unique</th>\n",
              "      <td>1</td>\n",
              "      <td>NaN</td>\n",
              "      <td>28</td>\n",
              "      <td>NaN</td>\n",
              "      <td>28</td>\n",
              "      <td>27</td>\n",
              "      <td>23</td>\n",
              "      <td>23</td>\n",
              "      <td>4</td>\n",
              "      <td>28</td>\n",
              "    </tr>\n",
              "    <tr>\n",
              "      <th>top</th>\n",
              "      <td>Daily</td>\n",
              "      <td>NaN</td>\n",
              "      <td>Hartsfield-Jackson Atlanta International</td>\n",
              "      <td>NaN</td>\n",
              "      <td>POINT(-84.4279188822754 33.6410758198944)</td>\n",
              "      <td>New York</td>\n",
              "      <td>New York</td>\n",
              "      <td>US-NY</td>\n",
              "      <td>United States of America (the)</td>\n",
              "      <td>POLYGON((-84.4299745559692 33.657852680999, -8...</td>\n",
              "    </tr>\n",
              "    <tr>\n",
              "      <th>freq</th>\n",
              "      <td>7247</td>\n",
              "      <td>NaN</td>\n",
              "      <td>262</td>\n",
              "      <td>NaN</td>\n",
              "      <td>262</td>\n",
              "      <td>523</td>\n",
              "      <td>523</td>\n",
              "      <td>523</td>\n",
              "      <td>4441</td>\n",
              "      <td>262</td>\n",
              "    </tr>\n",
              "    <tr>\n",
              "      <th>mean</th>\n",
              "      <td>NaN</td>\n",
              "      <td>1.0</td>\n",
              "      <td>NaN</td>\n",
              "      <td>66.651442</td>\n",
              "      <td>NaN</td>\n",
              "      <td>NaN</td>\n",
              "      <td>NaN</td>\n",
              "      <td>NaN</td>\n",
              "      <td>NaN</td>\n",
              "      <td>NaN</td>\n",
              "    </tr>\n",
              "    <tr>\n",
              "      <th>std</th>\n",
              "      <td>NaN</td>\n",
              "      <td>0.0</td>\n",
              "      <td>NaN</td>\n",
              "      <td>22.134433</td>\n",
              "      <td>NaN</td>\n",
              "      <td>NaN</td>\n",
              "      <td>NaN</td>\n",
              "      <td>NaN</td>\n",
              "      <td>NaN</td>\n",
              "      <td>NaN</td>\n",
              "    </tr>\n",
              "    <tr>\n",
              "      <th>min</th>\n",
              "      <td>NaN</td>\n",
              "      <td>1.0</td>\n",
              "      <td>NaN</td>\n",
              "      <td>0.000000</td>\n",
              "      <td>NaN</td>\n",
              "      <td>NaN</td>\n",
              "      <td>NaN</td>\n",
              "      <td>NaN</td>\n",
              "      <td>NaN</td>\n",
              "      <td>NaN</td>\n",
              "    </tr>\n",
              "    <tr>\n",
              "      <th>25%</th>\n",
              "      <td>NaN</td>\n",
              "      <td>1.0</td>\n",
              "      <td>NaN</td>\n",
              "      <td>53.000000</td>\n",
              "      <td>NaN</td>\n",
              "      <td>NaN</td>\n",
              "      <td>NaN</td>\n",
              "      <td>NaN</td>\n",
              "      <td>NaN</td>\n",
              "      <td>NaN</td>\n",
              "    </tr>\n",
              "    <tr>\n",
              "      <th>50%</th>\n",
              "      <td>NaN</td>\n",
              "      <td>1.0</td>\n",
              "      <td>NaN</td>\n",
              "      <td>67.000000</td>\n",
              "      <td>NaN</td>\n",
              "      <td>NaN</td>\n",
              "      <td>NaN</td>\n",
              "      <td>NaN</td>\n",
              "      <td>NaN</td>\n",
              "      <td>NaN</td>\n",
              "    </tr>\n",
              "    <tr>\n",
              "      <th>75%</th>\n",
              "      <td>NaN</td>\n",
              "      <td>1.0</td>\n",
              "      <td>NaN</td>\n",
              "      <td>84.000000</td>\n",
              "      <td>NaN</td>\n",
              "      <td>NaN</td>\n",
              "      <td>NaN</td>\n",
              "      <td>NaN</td>\n",
              "      <td>NaN</td>\n",
              "      <td>NaN</td>\n",
              "    </tr>\n",
              "    <tr>\n",
              "      <th>max</th>\n",
              "      <td>NaN</td>\n",
              "      <td>1.0</td>\n",
              "      <td>NaN</td>\n",
              "      <td>100.000000</td>\n",
              "      <td>NaN</td>\n",
              "      <td>NaN</td>\n",
              "      <td>NaN</td>\n",
              "      <td>NaN</td>\n",
              "      <td>NaN</td>\n",
              "      <td>NaN</td>\n",
              "    </tr>\n",
              "  </tbody>\n",
              "</table>\n",
              "</div>\n",
              "      <button class=\"colab-df-convert\" onclick=\"convertToInteractive('df-af768f30-1120-4d0f-a295-041021841683')\"\n",
              "              title=\"Convert this dataframe to an interactive table.\"\n",
              "              style=\"display:none;\">\n",
              "        \n",
              "  <svg xmlns=\"http://www.w3.org/2000/svg\" height=\"24px\"viewBox=\"0 0 24 24\"\n",
              "       width=\"24px\">\n",
              "    <path d=\"M0 0h24v24H0V0z\" fill=\"none\"/>\n",
              "    <path d=\"M18.56 5.44l.94 2.06.94-2.06 2.06-.94-2.06-.94-.94-2.06-.94 2.06-2.06.94zm-11 1L8.5 8.5l.94-2.06 2.06-.94-2.06-.94L8.5 2.5l-.94 2.06-2.06.94zm10 10l.94 2.06.94-2.06 2.06-.94-2.06-.94-.94-2.06-.94 2.06-2.06.94z\"/><path d=\"M17.41 7.96l-1.37-1.37c-.4-.4-.92-.59-1.43-.59-.52 0-1.04.2-1.43.59L10.3 9.45l-7.72 7.72c-.78.78-.78 2.05 0 2.83L4 21.41c.39.39.9.59 1.41.59.51 0 1.02-.2 1.41-.59l7.78-7.78 2.81-2.81c.8-.78.8-2.07 0-2.86zM5.41 20L4 18.59l7.72-7.72 1.47 1.35L5.41 20z\"/>\n",
              "  </svg>\n",
              "      </button>\n",
              "      \n",
              "  <style>\n",
              "    .colab-df-container {\n",
              "      display:flex;\n",
              "      flex-wrap:wrap;\n",
              "      gap: 12px;\n",
              "    }\n",
              "\n",
              "    .colab-df-convert {\n",
              "      background-color: #E8F0FE;\n",
              "      border: none;\n",
              "      border-radius: 50%;\n",
              "      cursor: pointer;\n",
              "      display: none;\n",
              "      fill: #1967D2;\n",
              "      height: 32px;\n",
              "      padding: 0 0 0 0;\n",
              "      width: 32px;\n",
              "    }\n",
              "\n",
              "    .colab-df-convert:hover {\n",
              "      background-color: #E2EBFA;\n",
              "      box-shadow: 0px 1px 2px rgba(60, 64, 67, 0.3), 0px 1px 3px 1px rgba(60, 64, 67, 0.15);\n",
              "      fill: #174EA6;\n",
              "    }\n",
              "\n",
              "    [theme=dark] .colab-df-convert {\n",
              "      background-color: #3B4455;\n",
              "      fill: #D2E3FC;\n",
              "    }\n",
              "\n",
              "    [theme=dark] .colab-df-convert:hover {\n",
              "      background-color: #434B5C;\n",
              "      box-shadow: 0px 1px 3px 1px rgba(0, 0, 0, 0.15);\n",
              "      filter: drop-shadow(0px 1px 2px rgba(0, 0, 0, 0.3));\n",
              "      fill: #FFFFFF;\n",
              "    }\n",
              "  </style>\n",
              "\n",
              "      <script>\n",
              "        const buttonEl =\n",
              "          document.querySelector('#df-af768f30-1120-4d0f-a295-041021841683 button.colab-df-convert');\n",
              "        buttonEl.style.display =\n",
              "          google.colab.kernel.accessAllowed ? 'block' : 'none';\n",
              "\n",
              "        async function convertToInteractive(key) {\n",
              "          const element = document.querySelector('#df-af768f30-1120-4d0f-a295-041021841683');\n",
              "          const dataTable =\n",
              "            await google.colab.kernel.invokeFunction('convertToInteractive',\n",
              "                                                     [key], {});\n",
              "          if (!dataTable) return;\n",
              "\n",
              "          const docLinkHtml = 'Like what you see? Visit the ' +\n",
              "            '<a target=\"_blank\" href=https://colab.research.google.com/notebooks/data_table.ipynb>data table notebook</a>'\n",
              "            + ' to learn more about interactive tables.';\n",
              "          element.innerHTML = '';\n",
              "          dataTable['output_type'] = 'display_data';\n",
              "          await google.colab.output.renderOutput(dataTable, element);\n",
              "          const docLink = document.createElement('div');\n",
              "          docLink.innerHTML = docLinkHtml;\n",
              "          element.appendChild(docLink);\n",
              "        }\n",
              "      </script>\n",
              "    </div>\n",
              "  </div>\n",
              "  "
            ]
          },
          "metadata": {},
          "execution_count": 10
        }
      ]
    },
    {
      "cell_type": "markdown",
      "source": [
        "Kesimpulan:\n",
        "- Terdapat 4 countries, 23 states, 27 cities dan 28 airports pada dataset.\n",
        "- Centroid and Country merupakan data POINT and POLYGON, yang menunjukkan lokasi geografi/koordinat (geographical locations).\n",
        "  - data koodrinat ini digunakan untuk analisis diskriptif dan visualisasi untuk mengetahui insight dari dataset yang tersedia\n",
        "- Dari hasil tersebut juga terlihat bahwa dataset tidak memiliki missing value.\n",
        "- Modeling dilakukan menggunakan index 'Date' dan variabel 'PercentOfBaseline' yang menunjukkan persentase dari volume lalu lintas (traffic) menuju dan dari bandara yang dibandingkan (persentase) dengan periode baseline (1 februari 2020 hingga 15 maret 2020)\n",
        "- Tujuan modeling adalah untuk membuat prediksi kepadatan lalulintas baik yang menuju atau dari bandara."
      ],
      "metadata": {
        "id": "89cTQt_SD8rX"
      }
    },
    {
      "cell_type": "markdown",
      "source": [
        "**Data processing**\n",
        "Tahapan yang dilakuan:\n",
        "1. Mengambil data 'PercentOfBaseline' secara timeseries (Date) yang akan digunakan dalam model\n"
      ],
      "metadata": {
        "id": "mxjLlR9U1yRf"
      }
    },
    {
      "cell_type": "code",
      "source": [
        "#mengambil dataset PercentOfBaseline\n",
        "\n",
        "dataset=df['PercentOfBaseline']\n",
        "dataset=pd.DataFrame(dataset)\n",
        "\n",
        "print(dataset)"
      ],
      "metadata": {
        "colab": {
          "base_uri": "https://localhost:8080/"
        },
        "id": "hRNNmrZsxQzj",
        "outputId": "d5e5d651-9bfd-4441-b256-855633554851"
      },
      "execution_count": 30,
      "outputs": [
        {
          "output_type": "stream",
          "name": "stdout",
          "text": [
            "            PercentOfBaseline\n",
            "Date                         \n",
            "2020-04-03                 64\n",
            "2020-04-13                 29\n",
            "2020-07-10                 54\n",
            "2020-09-02                 18\n",
            "2020-10-31                 22\n",
            "...                       ...\n",
            "2020-06-05                 80\n",
            "2020-10-03                 55\n",
            "2020-07-16                 76\n",
            "2020-07-31                 69\n",
            "2020-08-30                 68\n",
            "\n",
            "[7247 rows x 1 columns]\n"
          ]
        }
      ]
    },
    {
      "cell_type": "code",
      "source": [
        "#membagi dataset menjadi data train 80% dan data test 20%\n",
        "\n",
        "from sklearn.model_selection import train_test_split\n",
        "\n",
        "train_size = int(len(dataset) * 0.8) # bobot 80%\n",
        "train, test = dataset.iloc[0:train_size], dataset.iloc[train_size:len(dataset)]\n",
        "\n",
        "print(train.shape, test.shape)"
      ],
      "metadata": {
        "colab": {
          "base_uri": "https://localhost:8080/"
        },
        "id": "y83nlem7YnhA",
        "outputId": "6a49a8b2-6f3f-411f-f01d-379e1d1df399"
      },
      "execution_count": 31,
      "outputs": [
        {
          "output_type": "stream",
          "name": "stdout",
          "text": [
            "(5797, 1) (1450, 1)\n"
          ]
        }
      ]
    },
    {
      "cell_type": "code",
      "source": [
        "# Scaling data menjadi antara 0 sampai 1 (normalisasi data)\n",
        "\n",
        "from sklearn.preprocessing import MinMaxScaler\n",
        "sc = MinMaxScaler(feature_range = (0, 1))\n",
        "training_set_scaled = sc.fit_transform(train)\n",
        "test_set_scaled = sc.fit_transform(test)"
      ],
      "metadata": {
        "id": "_MudQoiexfE2"
      },
      "execution_count": 39,
      "outputs": []
    },
    {
      "cell_type": "code",
      "source": [
        "# membuat struktur data train dengan 60 timesteps and 1 output\n",
        "\n",
        "X_train = []\n",
        "y_train = []\n",
        "for i in range(60, 5797):\n",
        "    X_train.append(training_set_scaled[i-60:i, 0])\n",
        "    y_train.append(training_set_scaled[i, 0])\n",
        "X_train, y_train = np.array(X_train), np.array(y_train)\n",
        "\n",
        "# Reshaping\n",
        "X_train = np.reshape(X_train, (X_train.shape[0], X_train.shape[1], 1))"
      ],
      "metadata": {
        "id": "RC3Gv6rNxjK4"
      },
      "execution_count": 37,
      "outputs": []
    },
    {
      "cell_type": "code",
      "source": [
        "print(X_train.shape, y_train.shape)"
      ],
      "metadata": {
        "colab": {
          "base_uri": "https://localhost:8080/"
        },
        "id": "onClltANxr13",
        "outputId": "60eb96d8-be4e-4284-80ec-c7cedec181e5"
      },
      "execution_count": 38,
      "outputs": [
        {
          "output_type": "stream",
          "name": "stdout",
          "text": [
            "(5737, 60, 1) (5737,)\n"
          ]
        }
      ]
    },
    {
      "cell_type": "code",
      "source": [
        "# membuat struktur data test dengan 60 timesteps and 1 output\n",
        "\n",
        "X_test = []\n",
        "y_test = []\n",
        "for i in range(60, 1450):\n",
        "    X_test.append(test_set_scaled[i-60:i, 0])\n",
        "    y_test.append(test_set_scaled[i, 0])\n",
        "X_test, y_test = np.array(X_test), np.array(y_test)\n",
        "\n",
        "# Reshaping\n",
        "X_test = np.reshape(X_test, (X_test.shape[0], X_test.shape[1], 1))"
      ],
      "metadata": {
        "id": "QnIbiTVdcWdO"
      },
      "execution_count": 41,
      "outputs": []
    },
    {
      "cell_type": "code",
      "source": [
        "print(X_test.shape, y_test.shape)"
      ],
      "metadata": {
        "colab": {
          "base_uri": "https://localhost:8080/"
        },
        "id": "CGZ9Mw9uc5Rb",
        "outputId": "68a1104d-ea9b-4ff2-dc24-886e77920011"
      },
      "execution_count": 42,
      "outputs": [
        {
          "output_type": "stream",
          "name": "stdout",
          "text": [
            "(1390, 60, 1) (1390,)\n"
          ]
        }
      ]
    },
    {
      "cell_type": "code",
      "source": [
        "# silahkan dilanjutkan dengan \"Building the Model\""
      ],
      "metadata": {
        "id": "KPerLVQhyFTE"
      },
      "execution_count": null,
      "outputs": []
    }
  ]
}